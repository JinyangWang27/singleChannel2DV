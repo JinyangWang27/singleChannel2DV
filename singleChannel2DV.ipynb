{
  "nbformat": 4,
  "nbformat_minor": 0,
  "metadata": {
    "colab": {
      "name": "singleChannel2DV.ipynb",
      "provenance": [],
      "collapsed_sections": [],
      "authorship_tag": "ABX9TyPyROfiyp0cDJmaiNp5IMe+",
      "include_colab_link": true
    },
    "kernelspec": {
      "name": "python3",
      "display_name": "Python 3"
    },
    "language_info": {
      "name": "python"
    }
  },
  "cells": [
    {
      "cell_type": "markdown",
      "metadata": {
        "id": "view-in-github",
        "colab_type": "text"
      },
      "source": [
        "<a href=\"https://colab.research.google.com/github/JinyangWang27/singleChannel2DV/blob/main/singleChannel2DV.ipynb\" target=\"_parent\"><img src=\"https://colab.research.google.com/assets/colab-badge.svg\" alt=\"Open In Colab\"/></a>"
      ]
    },
    {
      "cell_type": "markdown",
      "source": [
        "# A single channel 2DV model (Ianniello, 1977)"
      ],
      "metadata": {
        "id": "oMnFSrHUEvBM"
      }
    },
    {
      "cell_type": "code",
      "source": [
        "#@title ### Install, import dependencies \n",
        "import numpy as np\n",
        "import matplotlib.pyplot as plt\n",
        "from numpy import pi\n",
        "from scipy import integrate\n",
        "\n",
        "# fsize=20\n",
        "# plt.rc('lines', linewidth=2)\n",
        "# plt.rc('xtick', labelsize=fsize) \n",
        "# plt.rc('ytick', labelsize=fsize) \n",
        "# plt.rc('legend', fontsize=fsize-3)\n",
        "plt.rc('axes', grid=True) "
      ],
      "metadata": {
        "id": "hHbaqK4-zFSi"
      },
      "execution_count": 37,
      "outputs": []
    },
    {
      "cell_type": "markdown",
      "source": [
        "Channel settings\n",
        "\n",
        "x: along-channel axis, pointing seaward\n",
        "\n",
        "z: vertical axis, pointing upward\n",
        "\n",
        "Parameters:\n",
        "\n",
        "* n_grid: number of grid\n",
        "* L [m]: channel length\n",
        "* H [m]: mean water depth\n",
        "* $A_v$ [m$^2$ s$^{-1}$]: vertical eddy viscosity\n",
        "* $s_f$ [m s$^{-1}$]: slip parameter\n",
        "\n",
        "\n",
        "\n",
        "Channel width profile is given by:\n",
        "$B(x)=B_{\\text{sea}} \\, e^{\\frac{x-L}{l_c}}$, \n",
        "where $l_c$ the convergence length scale.\n",
        "\n",
        "\n"
      ],
      "metadata": {
        "id": "XQ17oufEBS2o"
      }
    },
    {
      "cell_type": "code",
      "execution_count": 2,
      "metadata": {
        "id": "zoWlbvLNvmP7"
      },
      "outputs": [],
      "source": [
        "#@markdown ####** Model Settings:**\n",
        "n_grid = 100 #@param {type: 'number'}\n",
        "L = 250000 #@param {type: 'number'}  \n",
        "x = np.linspace(0, L, n_grid)\n",
        "H = 10  #@param {type: 'number'}\n",
        "z = np.linspace(-H, 0, n_grid)\n",
        "X, Z = np.meshgrid(x, z)\n",
        "width_profile = 'constant' #@param ['constant','exponential'] \n",
        "width_at_sea = 500 #@param {type: 'number'}\n",
        "convergence_length = 1e5  #@param {type: 'number'}\n",
        "if width_profile ==  'constant':\n",
        "  convergence_length = np.inf\n",
        "B = width_at_sea * np.exp((x - L) / convergence_length)\n",
        "\n",
        "g = 9.81\n",
        "omega = 2 * pi / 44700\n",
        "\n",
        "Av = 0.01 #@param {type: 'number'}\n",
        "sf = 0.01  #@param {type: 'number'} #s\n"
      ]
    },
    {
      "cell_type": "code",
      "source": [
        "#@markdown ####**Force Settings:**\n",
        "external_M2_ampitude = 1 #@param {type: 'number'}\n",
        "external_M2_phase_rad = 0 #@param {type: 'number'}\n",
        "M2 = external_M2_ampitude * np.exp(1j * external_M2_phase_rad)"
      ],
      "metadata": {
        "id": "NM8grQyn425_"
      },
      "execution_count": 3,
      "outputs": []
    },
    {
      "cell_type": "markdown",
      "source": [
        "## Leading order M$_2$ tide"
      ],
      "metadata": {
        "id": "6157BqaXH7AM"
      }
    },
    {
      "cell_type": "code",
      "source": [
        "lc = convergence_length\n",
        "gamma = np.sqrt(-1j * omega / Av)\n",
        "beta = sf / (sf * np.cosh(gamma * H) + Av * gamma * np.sinh(gamma * H))\n",
        "d0 = np.sqrt(\n",
        "    (.5 / lc)**2 - omega**2 / (g * H * (1 - beta * np.sinh(gamma * H) / gamma / H))\n",
        ")\n",
        "k1 = d0 - .5/lc\n",
        "k2 = -d0 - .5/lc\n",
        "solnM2 = np.linalg.solve(\n",
        "    [[d0, -d0], [np.exp(k1 * L), np.exp(k2 * L)]], \n",
        "    [0, M2])\n",
        "eta = solnM2[0] * np.exp(k1 * x) + solnM2[1] * np.exp(k2 * x) \n",
        "eta_X = solnM2[0] * np.exp(k1 * X) + solnM2[1] * np.exp(k2 * X)\n",
        "\n",
        "detadx = solnM2[0] * k1 * np.exp(k1 * X) +  solnM2[1] * k2 * np.exp(k2 * X)\n",
        "d2etadx2 = solnM2[0] * k1**2 * np.exp(k1 * X) +  solnM2[1] * k2**2 * np.exp(k2 * X)\n",
        "\n",
        "\n",
        "# u[-1,:]: current at the surface\n",
        "u = -1j * g / omega * (1 - beta * np.cosh(gamma * Z)) * detadx\n",
        "w = 1j * g / omega * (Z - beta * np.sinh(gamma * Z) / gamma) * (d2etadx2 + detadx / lc) - 1j * omega * eta_X "
      ],
      "metadata": {
        "id": "Rk00FNTu0WwU"
      },
      "execution_count": 26,
      "outputs": []
    },
    {
      "cell_type": "code",
      "source": [
        "plt.figure(figsize=(10, 6))\n",
        "plt.plot(x / 1000, np.abs(eta))\n",
        "plt.xlabel('Position (km)')\n",
        "plt.ylabel('M$_2$ elevation amplitude (m)')\n",
        "plt.show()"
      ],
      "metadata": {
        "colab": {
          "base_uri": "https://localhost:8080/",
          "height": 388
        },
        "id": "2Lp5PG112bm2",
        "outputId": "8ae7b6ef-5818-424d-b4cd-d377b773834a"
      },
      "execution_count": 27,
      "outputs": [
        {
          "output_type": "display_data",
          "data": {
            "text/plain": [
              "<Figure size 720x432 with 1 Axes>"
            ],
            "image/png": "[encoded data removed]"
          },
          "metadata": {
            "needs_background": "light"
          }
        }
      ]
    },
    {
      "cell_type": "code",
      "source": [
        "u = -1j * g / omega * (1 - beta * np.cosh(gamma * Z)) * np.exp(-.5 / lc * X) * (d0 * soln[0] * np.exp(d0 * X) - d0 * soln[1] * np.exp(-d0 * X)) \n",
        "plt.figure(figsize=(10, 6.18))\n",
        "contour_u = plt.pcolor(X, Z, np.abs(u))\n",
        "cbar = plt.colorbar(contour_u)\n",
        "cbar.set_label('horizontal current amp. (m/s)')\n",
        "\n",
        "# plt.figure(figsize=(10, 6.18))\n",
        "# contour_u = plt.pcolor(X, Z, np.angle(u))\n",
        "# cbar = plt.colorbar(contour_u)\n",
        "# cbar.set_label('horizontal current phase (rad)')"
      ],
      "metadata": {
        "colab": {
          "base_uri": "https://localhost:8080/",
          "height": 388
        },
        "id": "rXR6q5RS5yQ7",
        "outputId": "a5fc88d6-d4fa-4163-bd42-150b3166aefb"
      },
      "execution_count": 28,
      "outputs": [
        {
          "output_type": "display_data",
          "data": {
            "text/plain": [
              "<Figure size 720x444.96 with 2 Axes>"
            ],
            "image/png": "[encoded data removed]"
          },
          "metadata": {
            "needs_background": "light"
          }
        }
      ]
    },
    {
      "cell_type": "markdown",
      "source": [
        "## First order residual flows\n"
      ],
      "metadata": {
        "id": "rrtmZ9PLHzys"
      }
    },
    {
      "cell_type": "code",
      "source": [
        "r = Av / H / sf     # dimensionless slip parameter\n",
        "fz = g * H**2 / Av * (.5 * ((Z/H)**2 - 1) - r)  # residual current vertical profile\n",
        "coef = Av / g / H**3 / (1/3 + r)"
      ],
      "metadata": {
        "id": "JLNXep1jHX3u"
      },
      "execution_count": 35,
      "outputs": []
    },
    {
      "cell_type": "markdown",
      "source": [
        "### Stokes return flow"
      ],
      "metadata": {
        "id": "eVr_bv5xIHdM"
      }
    },
    {
      "cell_type": "code",
      "source": [
        "pressure_gradient_Stokes = coef * .5 * (np.real(eta.conjugate() * u[-1, :]))\n",
        "u_Stokes = fz * pressure_gradient_Stokes\n",
        "eta_Stokes = integrate.cumtrapz(pressure_gradient_Stokes[::-1], x[::-1], initial=0)[::-1]"
      ],
      "metadata": {
        "id": "dXbjz6Lb_3gy"
      },
      "execution_count": 50,
      "outputs": []
    },
    {
      "cell_type": "code",
      "source": [
        "# plt.plot(x, eta_Stokes)"
      ],
      "metadata": {
        "id": "ar_OamafKRXv"
      },
      "execution_count": 45,
      "outputs": []
    },
    {
      "cell_type": "code",
      "source": [
        "# plt.pcolor(X,Z,u_Stokes)"
      ],
      "metadata": {
        "id": "ixX-fjIdKmZ8"
      },
      "execution_count": 52,
      "outputs": []
    },
    {
      "cell_type": "code",
      "source": [
        ""
      ],
      "metadata": {
        "id": "8fGm6AkcKyEq"
      },
      "execution_count": null,
      "outputs": []
    },
    {
      "cell_type": "markdown",
      "source": [
        "## Velocity-depth asymmetry (vda, or no stress, or depth-deendent friction)"
      ],
      "metadata": {
        "id": "gpZxhVSSK3Ix"
      }
    },
    {
      "cell_type": "code",
      "source": [
        "uzz_at_0 = 1j * g * beta * gamma**2 * np.cosh(0) * detadx[-1,0]\n",
        "Fvda = .5 * np.real(eta.conjugate() * uzz_at_0)\n",
        "pressure_gradient_vda = -coef * (.5 + r) * H**2 * Fvda\n",
        "eta_vda = integrate.cumtrapz(pressure_gradient_vda[::-1], x[::-1], initial=0)[::-1]\n",
        "u_vda = fz * pressure_gradient_vda"
      ],
      "metadata": {
        "id": "tFKx8z8zK13Y"
      },
      "execution_count": 59,
      "outputs": []
    },
    {
      "cell_type": "code",
      "source": [
        "plt.plot(x, eta_vda)"
      ],
      "metadata": {
        "colab": {
          "base_uri": "https://localhost:8080/",
          "height": 294
        },
        "id": "HGIdbCDtLabI",
        "outputId": "8ebf9ca1-bce9-4d40-fb7f-34b20c546512"
      },
      "execution_count": 60,
      "outputs": [
        {
          "output_type": "execute_result",
          "data": {
            "text/plain": [
              "[<matplotlib.lines.Line2D at 0x7fce3eab83d0>]"
            ]
          },
          "metadata": {},
          "execution_count": 60
        },
        {
          "output_type": "display_data",
          "data": {
            "text/plain": [
              "<Figure size 432x288 with 1 Axes>"
            ],
            "image/png": "[encoded data removed]"
          },
          "metadata": {
            "needs_background": "light"
          }
        }
      ]
    },
    {
      "cell_type": "code",
      "source": [
        ""
      ],
      "metadata": {
        "id": "zc0IiuzWM02r"
      },
      "execution_count": null,
      "outputs": []
    }
  ]
}